{
  "nbformat": 4,
  "nbformat_minor": 0,
  "metadata": {
    "colab": {
      "provenance": []
    },
    "kernelspec": {
      "name": "python3",
      "display_name": "Python 3"
    },
    "language_info": {
      "name": "python"
    }
  },
  "cells": [
    {
      "cell_type": "code",
      "execution_count": 1,
      "metadata": {
        "colab": {
          "base_uri": "https://localhost:8080/"
        },
        "id": "vPPYdLxaB0GD",
        "outputId": "ed99d914-fd54-48b0-edf4-d30ef5b78cdd"
      },
      "outputs": [
        {
          "output_type": "stream",
          "name": "stdout",
          "text": [
            "Collecting pulp\n",
            "  Downloading PuLP-2.7.0-py3-none-any.whl (14.3 MB)\n",
            "\u001b[2K     \u001b[90m━━━━━━━━━━━━━━━━━━━━━━━━━━━━━━━━━━━━━━━━\u001b[0m \u001b[32m14.3/14.3 MB\u001b[0m \u001b[31m51.4 MB/s\u001b[0m eta \u001b[36m0:00:00\u001b[0m\n",
            "\u001b[?25hInstalling collected packages: pulp\n",
            "Successfully installed pulp-2.7.0\n"
          ]
        }
      ],
      "source": [
        "!pip install pulp"
      ]
    },
    {
      "cell_type": "code",
      "source": [
        "import pulp"
      ],
      "metadata": {
        "id": "Fra5Gt8BB506"
      },
      "execution_count": 2,
      "outputs": []
    },
    {
      "cell_type": "code",
      "source": [
        "# Mencari nilai maksimal\n",
        "model = pulp.LpProblem(\"ProfitMaximisingProblem\", pulp.LpMaximize)"
      ],
      "metadata": {
        "id": "XObBP3U1B6_T"
      },
      "execution_count": 3,
      "outputs": []
    },
    {
      "cell_type": "code",
      "source": [
        "A = pulp.LpVariable('A', lowBound=0, cat='Integer')\n",
        "B = pulp.LpVariable('B', lowBound=0, cat='Integer')"
      ],
      "metadata": {
        "id": "s6WtKNp4B_3x"
      },
      "execution_count": 4,
      "outputs": []
    },
    {
      "cell_type": "code",
      "source": [
        "#Objective function\n",
        "model += 4200 * A + 2800 * B, \"Profit\"\n",
        "\n",
        "#contrains\n",
        "model += 3 * A + 2 * B <= 20\n",
        "model += 4 * A + 3 * B <= 30\n",
        "model += 4 * A + 3 * B <= 44"
      ],
      "metadata": {
        "id": "9YbdkVn9B_76"
      },
      "execution_count": 5,
      "outputs": []
    },
    {
      "cell_type": "code",
      "source": [
        "#Solve out problem\n",
        "model.solve()\n",
        "pulp.LpStatus[model.status]"
      ],
      "metadata": {
        "colab": {
          "base_uri": "https://localhost:8080/",
          "height": 35
        },
        "id": "HQTCkAZUCD6Z",
        "outputId": "61fb1df4-f4e0-44c6-b604-7b0f1a861222"
      },
      "execution_count": 6,
      "outputs": [
        {
          "output_type": "execute_result",
          "data": {
            "text/plain": [
              "'Optimal'"
            ],
            "application/vnd.google.colaboratory.intrinsic+json": {
              "type": "string"
            }
          },
          "metadata": {},
          "execution_count": 6
        }
      ]
    },
    {
      "cell_type": "code",
      "source": [
        "#print our decision variable values\n",
        "print (\"robot A: \", A.varValue)\n",
        "print (\"robot B: \", B.varValue)"
      ],
      "metadata": {
        "colab": {
          "base_uri": "https://localhost:8080/"
        },
        "id": "0yo_9vkuCHcS",
        "outputId": "615eff95-8fc5-4fe8-84d5-d3a8ed09ebdf"
      },
      "execution_count": 7,
      "outputs": [
        {
          "output_type": "stream",
          "name": "stdout",
          "text": [
            "robot A:  6.0\n",
            "robot B:  1.0\n"
          ]
        }
      ]
    },
    {
      "cell_type": "code",
      "source": [
        "#print our objective function value\n",
        "print (pulp.value(model.objective))"
      ],
      "metadata": {
        "colab": {
          "base_uri": "https://localhost:8080/"
        },
        "id": "R_JL-LAXCK8Z",
        "outputId": "f9e5926b-36de-4f81-c96c-a0f56861966e"
      },
      "execution_count": 8,
      "outputs": [
        {
          "output_type": "stream",
          "name": "stdout",
          "text": [
            "28000.0\n"
          ]
        }
      ]
    },
    {
      "cell_type": "code",
      "source": [
        "# Latihan 1\n",
        "# 4x + 3y = 34\n",
        "\n",
        "mod1 = pulp.LpProblem(name =\"Pemecahan_Persamaan\", sense=pulp.LpMinimize)\n",
        "\n",
        "x = pulp.LpVariable(name=\"x\")\n",
        "y = pulp.LpVariable(name=\"y\")\n",
        "\n",
        "mod1 += 4 * x + 3 * y == 34\n",
        "\n",
        "mod1.solve()\n",
        "\n",
        "print(\"Status : \", mod1.status)\n",
        "print(\"Nilai x = \", x.varValue)\n",
        "print(\"Nilai y = \", y.varValue)"
      ],
      "metadata": {
        "colab": {
          "base_uri": "https://localhost:8080/"
        },
        "id": "nhqlpCdVCNbR",
        "outputId": "6fdfeece-78f3-4a10-f99e-ac18910f75f5"
      },
      "execution_count": 9,
      "outputs": [
        {
          "output_type": "stream",
          "name": "stdout",
          "text": [
            "Status :  1\n",
            "Nilai x =  8.5\n",
            "Nilai y =  0.0\n"
          ]
        }
      ]
    },
    {
      "cell_type": "code",
      "source": [
        "# Latihan 2\n",
        "# 5x + y = 37\n",
        "\n",
        "mod2 = pulp.LpProblem(name =\"Pemecahan_Persamaan\", sense=pulp.LpMinimize)\n",
        "\n",
        "x = pulp.LpVariable(name=\"x\")\n",
        "y = pulp.LpVariable(name=\"y\")\n",
        "\n",
        "mod2 += 5 * x + 1 * y == 37\n",
        "\n",
        "mod2.solve()\n",
        "\n",
        "print(\"Status : \", mod2.status)\n",
        "print(\"Nilai x = \", x.varValue)\n",
        "print(\"Nilai y = \", y.varValue)"
      ],
      "metadata": {
        "colab": {
          "base_uri": "https://localhost:8080/"
        },
        "id": "H6TX5dO1CX_m",
        "outputId": "06cae68c-8884-452f-f155-b37500d6be28"
      },
      "execution_count": 11,
      "outputs": [
        {
          "output_type": "stream",
          "name": "stdout",
          "text": [
            "Status :  1\n",
            "Nilai x =  7.4\n",
            "Nilai y =  0.0\n"
          ]
        }
      ]
    },
    {
      "cell_type": "code",
      "source": [
        "# Latihan soal cerita 1\n",
        "\n",
        "# Instantiate our problem class\n",
        "modelCerita = pulp.LpProblem(\"HargaBeliBarang\", pulp.LpMinimize)\n",
        "\n",
        "# Define the decision variables\n",
        "P = pulp.LpVariable('P', lowBound=0, cat='Integer')\n",
        "B = pulp.LpVariable('B', lowBound=0, cat='Integer')\n",
        "\n",
        "# Define the objective function\n",
        "modelCerita += 2 * P + 6 * B, \"TotalHarga\"\n",
        "\n",
        "# Define the constraints based on the given purchase scenarios\n",
        "modelCerita += 3 * P + 4 * B == 11000  # Pembelian pertama\n",
        "modelCerita += 1 * P + 7 * B == 15000    # Pembelian kedua\n",
        "\n",
        "# Solve the problem\n",
        "modelCerita.solve()\n",
        "status = pulp.LpStatus[modelCerita.status]\n",
        "\n",
        "if status == \"Optimal\":\n",
        "    harga_pensil = P.varValue\n",
        "    harga_buku = B.varValue\n",
        "    print(f\"Harga dua buah pensil: {harga_pensil} Rupiah\")\n",
        "    print(f\"Harga enam buah buku: {harga_buku} Rupiah\")\n",
        "else:\n",
        "    print(\"Tidak ada solusi optimal yang ditemukan.\")"
      ],
      "metadata": {
        "colab": {
          "base_uri": "https://localhost:8080/"
        },
        "id": "pga78xV8Ccy2",
        "outputId": "bb9cce30-9a5f-46e4-af34-675e8cdf689e"
      },
      "execution_count": 12,
      "outputs": [
        {
          "output_type": "stream",
          "name": "stdout",
          "text": [
            "Harga dua buah pensil: 1000.0 Rupiah\n",
            "Harga enam buah buku: 2000.0 Rupiah\n"
          ]
        }
      ]
    },
    {
      "cell_type": "code",
      "source": [
        "# Latihan soal cerita 2\n",
        "\n",
        "# Membuat model linear programming\n",
        "model = pulp.LpProblem(name=\"PersegiPanjang\", sense=pulp.LpMinimize)\n",
        "\n",
        "# Variabel keputusan\n",
        "panjang = pulp.LpVariable(\"Panjang\", lowBound=0)  # Panjang persegi panjang\n",
        "lebar = pulp.LpVariable(\"Lebar\", lowBound=0)  # Lebar persegi panjang\n",
        "\n",
        "# Fungsi tujuan (minimalkan panjang + 2 * lebar)\n",
        "model += panjang + 2 * lebar, \"Keliling\"\n",
        "\n",
        "# Persamaan kendala (keliling = 44 cm, lebar = panjang - 6)\n",
        "model += 2 * (panjang + lebar) == 44, \"KelilingConstraint\"\n",
        "model += lebar == panjang - 6, \"LebarConstraint\"\n",
        "\n",
        "# Menyelesaikan masalah linear programming\n",
        "model.solve()\n",
        "\n",
        "# Mendapatkan solusi optimal\n",
        "optimal_panjang = panjang.value()\n",
        "optimal_lebar = lebar.value()\n",
        "\n",
        "# Menampilkan hasil\n",
        "print(f\"Panjang optimal : {optimal_panjang} cm\")\n",
        "print(f\"Lebar optimal : {optimal_lebar} cm\")\n"
      ],
      "metadata": {
        "colab": {
          "base_uri": "https://localhost:8080/"
        },
        "id": "aG25Ysf3CjcB",
        "outputId": "9482f4f5-9a2e-4530-a6a5-964d12b38cb5"
      },
      "execution_count": 13,
      "outputs": [
        {
          "output_type": "stream",
          "name": "stdout",
          "text": [
            "Panjang optimal : 14.0 cm\n",
            "Lebar optimal : 8.0 cm\n"
          ]
        }
      ]
    },
    {
      "cell_type": "code",
      "source": [
        "#Aplikasi Linear Programming\n",
        "\n",
        "#Import required libraries\n",
        "import numpy as np\n",
        "from scipy.optimize import linprog\n",
        "\n",
        "# Set the inequality constraints matrix\n",
        "# Note: the inequality contraints must be in the form of <=\n",
        "A = np.array ([[1,0], [2,3], [1,1], [-1,0], [0,-1]])\n",
        "\n",
        "# Set the inequality constraints vector\n",
        "b = np.array([16, 19, 8, 0, 0])\n",
        "\n",
        "# Set the coefficients of the linear objective function vector\n",
        "# Note: when maximizing, change\n",
        "C = np.array([-5, -7])\n",
        "\n",
        "#solve linear programming problem\n",
        "res = linprog(C, A_ub=A, b_ub=b)\n",
        "\n",
        "#print result\n",
        "print ('Optimal value: ', round(res.fun*-1,ndigits=2),\n",
        "       '\\nx values:', res.x,\n",
        "       '\\nNumber of iteration performed:', res.nit,\n",
        "       '\\nStatus:', res.message)"
      ],
      "metadata": {
        "colab": {
          "base_uri": "https://localhost:8080/"
        },
        "id": "ktRdLg3eCsrx",
        "outputId": "3133a342-8de8-4ea0-e871-8b3c461f17d0"
      },
      "execution_count": 14,
      "outputs": [
        {
          "output_type": "stream",
          "name": "stdout",
          "text": [
            "Optimal value:  46.0 \n",
            "x values: [5. 3.] \n",
            "Number of iteration performed: 3 \n",
            "Status: Optimization terminated successfully. (HiGHS Status 7: Optimal)\n"
          ]
        }
      ]
    },
    {
      "cell_type": "code",
      "source": [
        "# 1. Impor modul yang diperlukan dari Scipy:\n",
        "\n",
        "from scipy.optimize import linprog\n",
        "\n",
        "# 2. Tentukan koefisien fungsi tujuan dan matriks batasan:\n",
        "#koefisien fungsi tujuan (Z = 5x1 + 7x2)\n",
        "C = [-5, -7] #karena kita ingin \"maksimalkan\" -5x1 - 7x2, maka perlu diubah menjadi \"-5\" dan \"-7\"\n",
        "\n",
        "# Koefisien matriks batasan\n",
        "A = [\n",
        "    [1, 0], # 1x1 + 0x2 <= 16\n",
        "    [2, 3], # 2x1 + 3x2 <= 19\n",
        "    [1, 1], # 1x1 + 1x2 <= 8\n",
        "]\n",
        "\n",
        "# Batasan kanan (rhs) dari masing-masing batasan\n",
        "b = [16, 19, 8]\n",
        "\n",
        "# 3. Tentukan batasan variabel x1 dan x2 sebagai variabel non-negatif\n",
        "\n",
        "x1_bounds = (0, None) # x1 >= 0\n",
        "x2_bounds = (0, None) # x2 >= 0\n",
        "\n",
        "# 4. Gunakan linprog untuk menyelesaikan masalah pemrograman linier:\n",
        "\n",
        "result = linprog(C, A_ub=A, b_ub=b, bounds=[x1_bounds, x2_bounds], method=\"highs\")\n",
        "\n",
        "# 5. Tampilkan hasilnya:\n",
        "# Hasil optimasi\n",
        "print(\"Optimal Solution: \")\n",
        "print(\"x1 = \", result.x[0])\n",
        "print(\"x2 = \", result.x[1])\n",
        "print(\"Max Z = \", -result.fun)  #Karena tujuannya adalah memaksimalkan -Z"
      ],
      "metadata": {
        "colab": {
          "base_uri": "https://localhost:8080/"
        },
        "id": "SLQbe3Y7C34b",
        "outputId": "4405cb08-18f3-4582-d713-af67feb8d35a"
      },
      "execution_count": 15,
      "outputs": [
        {
          "output_type": "stream",
          "name": "stdout",
          "text": [
            "Optimal Solution: \n",
            "x1 =  5.0\n",
            "x2 =  3.0\n",
            "Max Z =  46.0\n"
          ]
        }
      ]
    },
    {
      "cell_type": "code",
      "source": [
        "# Latihan scipy 1\n",
        "# soal 4x + 12y\n",
        "\n",
        "\n",
        "# Koefisien fungsi tujuan\n",
        "C = [0, 0]\n",
        "\n",
        "# Koefisien matriks batasan\n",
        "A = [\n",
        "    [4, 12]  # 4x + 12y = 28\n",
        "]\n",
        "\n",
        "# Batasan kanan (rhs) dari matriks batasan\n",
        "b = [28]\n",
        "\n",
        "# Batasan variabel x dan y sebagai variabel non-negatif\n",
        "x_bounds = (0, None)\n",
        "y_bounds = (0, None)\n",
        "\n",
        "# Gunakan linprog untuk menyelesaikan masalah pemrograman linier\n",
        "result = linprog(c=C, A_eq=A, b_eq=b, bounds=[x_bounds, y_bounds], method=\"highs\")\n",
        "\n",
        "# Tampilkan hasilnya\n",
        "print(\"Optimal Solution:\")\n",
        "print(\"x =\", result.x[0])\n",
        "print(\"y =\", result.x[1])\n"
      ],
      "metadata": {
        "colab": {
          "base_uri": "https://localhost:8080/"
        },
        "id": "EB3RxOeZC_iC",
        "outputId": "9657a315-7fb7-4bb4-9cf4-1d40855f7f22"
      },
      "execution_count": 17,
      "outputs": [
        {
          "output_type": "stream",
          "name": "stdout",
          "text": [
            "Optimal Solution:\n",
            "x = 0.0\n",
            "y = 2.3333333333333335\n"
          ]
        }
      ]
    },
    {
      "cell_type": "code",
      "source": [
        "# Latihan scipy 2\n",
        "#soal 2x + y = 21\n",
        "\n",
        "\n",
        "# Koefisien fungsi tujuan\n",
        "C = [0, 0]\n",
        "\n",
        "# Koefisien matriks batasan\n",
        "A = [\n",
        "    [2, 1]  # 2x + y = 21\n",
        "]\n",
        "\n",
        "# Batasan kanan (rhs) dari matriks batasan\n",
        "b = [21]\n",
        "\n",
        "# Batasan variabel x dan y sebagai variabel non-negatif\n",
        "x_bounds = (0, None)\n",
        "y_bounds = (0, None)\n",
        "\n",
        "# Gunakan linprog untuk menyelesaikan masalah pemrograman linier\n",
        "result = linprog(c=C, A_eq=A, b_eq=b, bounds=[x_bounds, y_bounds], method=\"highs\")\n",
        "\n",
        "# Tampilkan hasilnya\n",
        "print(\"Optimal Solution:\")\n",
        "print(\"x =\", result.x[0])\n",
        "print(\"y =\", result.x[1])\n"
      ],
      "metadata": {
        "colab": {
          "base_uri": "https://localhost:8080/"
        },
        "id": "Q0dkGhWBDacz",
        "outputId": "a1fa3e72-a394-4f9f-e0c8-301059f7cdf4"
      },
      "execution_count": 18,
      "outputs": [
        {
          "output_type": "stream",
          "name": "stdout",
          "text": [
            "Optimal Solution:\n",
            "x = 0.0\n",
            "y = 21.0\n"
          ]
        }
      ]
    },
    {
      "cell_type": "code",
      "source": [
        "# Latihan scipy 3\n",
        "\n",
        "\n",
        "# Koefisien fungsi tujuan (minimalkan Z = 0x + 0y)\n",
        "C = [0, 0]\n",
        "\n",
        "# Koefisien matriks batasan\n",
        "A = [\n",
        "    [3, 4],  # 3x + 4y = 55\n",
        "    [1, 1]   # x + y = 16\n",
        "]\n",
        "\n",
        "# Batasan kanan (rhs) dari matriks batasan\n",
        "b = [55, 16]\n",
        "\n",
        "# Batasan variabel x dan y sebagai variabel non-negatif\n",
        "x_bounds = (0, None)\n",
        "y_bounds = (0, None)\n",
        "\n",
        "# Gunakan linprog untuk menyelesaikan masalah pemrograman linier\n",
        "result = linprog(c=C, A_eq=A, b_eq=b, bounds=[x_bounds, y_bounds], method=\"highs\")\n",
        "\n",
        "# Tampilkan hasilnya\n",
        "print(\"Optimal Solution:\")\n",
        "print(\"Jam kerja Lisa (x) =\", result.x[0])\n",
        "print(\"Jam kerja Muri (y) =\", result.x[1])\n"
      ],
      "metadata": {
        "colab": {
          "base_uri": "https://localhost:8080/"
        },
        "id": "5msk8uLRDdo0",
        "outputId": "3f1bb041-2cf7-4163-dc4e-6852afd0aa52"
      },
      "execution_count": 19,
      "outputs": [
        {
          "output_type": "stream",
          "name": "stdout",
          "text": [
            "Optimal Solution:\n",
            "Jam kerja Lisa (x) = 9.0\n",
            "Jam kerja Muri (y) = 7.0\n"
          ]
        }
      ]
    }
  ]
}