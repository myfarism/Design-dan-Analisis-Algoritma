{
  "nbformat": 4,
  "nbformat_minor": 0,
  "metadata": {
    "colab": {
      "provenance": []
    },
    "kernelspec": {
      "name": "python3",
      "display_name": "Python 3"
    },
    "language_info": {
      "name": "python"
    }
  },
  "cells": [
    {
      "cell_type": "code",
      "source": [
        "# Create dictionary with graph element\n",
        "'''\n",
        "a-----b\n",
        "|     |\n",
        "|     |\n",
        "c-----d----e\n",
        "'''\n",
        "\n",
        "graph = {\"a\" : [\"b\", \"c\"],\n",
        "         \"b\" : [\"a\", \"d\"],\n",
        "         \"c\" : [\"a\", \"d\"],\n",
        "         \"d\" : [\"e\"],\n",
        "         \"e\" : [\"d\"]\n",
        "          }\n",
        "\n",
        "print(graph)"
      ],
      "metadata": {
        "colab": {
          "base_uri": "https://localhost:8080/"
        },
        "id": "3PMdz01wU884",
        "outputId": "b467a8f3-eae6-4d5d-a7ab-5fc6323214b9"
      },
      "execution_count": null,
      "outputs": [
        {
          "output_type": "stream",
          "name": "stdout",
          "text": [
            "{'a': ['b', 'c'], 'b': ['a', 'd'], 'c': ['a', 'd'], 'd': ['e'], 'e': ['d']}\n"
          ]
        }
      ]
    },
    {
      "cell_type": "code",
      "source": [
        "# Latihan buat graph\n",
        "'''\n",
        "T-------U-------V\n",
        "|               |\n",
        "W---------------X\n",
        "|               |\n",
        "Z               S\n",
        "'''\n",
        "\n",
        "graph1 = {  \"T\" : [\"U\", \"W\"],\n",
        "            \"U\" : [\"V\"],\n",
        "            \"V\" : [\"U\", \"X\"],\n",
        "            \"W\" : [\"X\", \"Z\"],\n",
        "            \"X\" : [\"S\", \"W\"]\n",
        "        }\n",
        "\n",
        "print(graph1)"
      ],
      "metadata": {
        "colab": {
          "base_uri": "https://localhost:8080/"
        },
        "id": "wDtokhtrXXDo",
        "outputId": "c563dc38-4928-42a0-d3c5-ef8ecdc1affd"
      },
      "execution_count": null,
      "outputs": [
        {
          "output_type": "stream",
          "name": "stdout",
          "text": [
            "{'T': ['U', 'W'], 'U': ['V'], 'V': ['U', 'X'], 'W': ['X', 'Z'], 'X': ['S', 'W']}\n"
          ]
        }
      ]
    },
    {
      "cell_type": "code",
      "source": [
        "# Latihan buat graph\n",
        "'''\n",
        "r-------o-------m\n",
        "|       |       |\n",
        "l-------p-------n\n",
        "'''\n",
        "\n",
        "graph2 = {  \"r\" : [\"o\", \"l\"],\n",
        "            \"o\" : [\"m\", \"p\"],\n",
        "            \"m\" : [\"o\", \"n\"],\n",
        "            \"l\" : [\"r\", \"p\"],\n",
        "            \"p\" : [\"o\", \"n\"],\n",
        "            \"n\" : [\"m\", \"p\"]\n",
        "        }\n",
        "\n",
        "print(graph2)"
      ],
      "metadata": {
        "colab": {
          "base_uri": "https://localhost:8080/"
        },
        "id": "3OM3_M2yXipu",
        "outputId": "38fbb39c-59af-4d3a-a3d7-017123072df5"
      },
      "execution_count": null,
      "outputs": [
        {
          "output_type": "stream",
          "name": "stdout",
          "text": [
            "{'r': ['o', 'l'], 'o': ['m', 'p'], 'm': ['o', 'n'], 'l': ['r', 'p'], 'p': ['o', 'n'], 'n': ['m', 'p']}\n"
          ]
        }
      ]
    },
    {
      "cell_type": "code",
      "source": [
        "# Menampilkan simpul graph\n",
        "\n",
        "class Graph:\n",
        "  def __init__(self, gdict=None):\n",
        "    if gdict is None:\n",
        "      gdict = {}\n",
        "    self.gdict = gdict\n",
        "\n",
        "  # get the keys of the dictionnary\n",
        "  def getVertices(self):\n",
        "    return list(self.gdict.keys())\n",
        "\n",
        "  def edges(self):\n",
        "    return self.findedges()\n",
        "\n",
        "  # add the new edge\n",
        "  def addEdge(self, edge):\n",
        "    edge = set(edge)\n",
        "    (vrtx1, vrtx2) = tuple(edge)\n",
        "    if vrtx1 in self.gdict:\n",
        "      self.gdict[vrtx1].append(vrtx2)\n",
        "    else:\n",
        "      self.gdict[vrtx1] = [vrtx2]\n",
        "\n",
        "  # Find the distinct list of edges\n",
        "  def findedges(self):\n",
        "    edgename = []\n",
        "    for vrtx in self.gdict:\n",
        "      for nxtvrtx in self.gdict[vrtx]:\n",
        "        if {nxtvrtx, vrtx} not in edgename:\n",
        "          edgename.append({vrtx, nxtvrtx})\n",
        "    return edgename\n",
        "\n",
        "  # Add the vertex as a key\n",
        "  def addVertex(self, vrtx):\n",
        "    if vrtx not in self.gdict:\n",
        "      self.gdict[vrtx] = []\n",
        "\n",
        "# Create dictionary with graph elements\n",
        "graph_elements = {\n",
        "    \"a\" : [\"b\", \"c\"],\n",
        "    \"b\" : [\"a\", \"d\"],\n",
        "    \"c\" : [\"a\", \"d\"],\n",
        "    \"d\" : [\"e\"],\n",
        "    \"e\" : [\"d\"]\n",
        "}\n",
        "\n",
        "# Create an instance of the graph class and pass the graph_elements\n",
        "g = Graph(graph_elements)\n",
        "\n",
        "\n",
        "# Print the vertices by calling the getVertices method in parentheses\n",
        "print(g.getVertices())\n",
        "print(g.edges())\n",
        "\n",
        "# Menambah simpul\n",
        "g.addVertex(\"f\")\n",
        "print(g.getVertices())\n",
        "\n",
        "# menambah sudut\n",
        "g.addEdge({'a', 'e'})\n",
        "g.addEdge({'a', 'c'})\n",
        "print(g.edges())"
      ],
      "metadata": {
        "colab": {
          "base_uri": "https://localhost:8080/"
        },
        "id": "_r7mtdWJZd7_",
        "outputId": "228aa030-fb60-447a-bf47-b3318a5b7dbd"
      },
      "execution_count": null,
      "outputs": [
        {
          "output_type": "stream",
          "name": "stdout",
          "text": [
            "['a', 'b', 'c', 'd', 'e']\n",
            "[{'b', 'a'}, {'a', 'c'}, {'b', 'd'}, {'d', 'c'}, {'d', 'e'}]\n",
            "['a', 'b', 'c', 'd', 'e', 'f']\n",
            "[{'b', 'a'}, {'a', 'c'}, {'a', 'e'}, {'b', 'd'}, {'d', 'c'}, {'d', 'e'}]\n"
          ]
        }
      ]
    },
    {
      "cell_type": "code",
      "source": [
        "# Latihan elemen simpul graph TUV\n",
        "# Create dictionary with graph elements\n",
        "graph_elements1 = {\n",
        "            \"T\" : [\"U\", \"W\"],\n",
        "            \"U\" : [\"V\"],\n",
        "            \"V\" : [\"U\", \"X\"],\n",
        "            \"W\" : [\"X\", \"Z\"],\n",
        "            \"X\" : [\"S\", \"W\"],\n",
        "            \"Z\" : [\"W\"],\n",
        "            \"S\" : [\"X\"]\n",
        "        }\n",
        "\n",
        "# Create an instance of the graph class and pass the graph_elements\n",
        "g1 = Graph(graph_elements1)\n",
        "\n",
        "# Print the vertices by calling the getVertices method in parentheses\n",
        "print(g1.getVertices())"
      ],
      "metadata": {
        "colab": {
          "base_uri": "https://localhost:8080/"
        },
        "id": "jC4cuaJraqbX",
        "outputId": "51a32cfe-9b6c-4a99-ff95-d5c888427758"
      },
      "execution_count": null,
      "outputs": [
        {
          "output_type": "stream",
          "name": "stdout",
          "text": [
            "['T', 'U', 'V', 'W', 'X', 'Z', 'S']\n"
          ]
        }
      ]
    },
    {
      "cell_type": "code",
      "source": [
        "# Latihan elemen simpul graph rom\n",
        "# Create dictionary with graph elements\n",
        "graph_elements2 = {\n",
        "            \"r\" : [\"o\", \"l\"],\n",
        "            \"o\" : [\"m\", \"p\"],\n",
        "            \"m\" : [\"o\", \"n\"],\n",
        "            \"l\" : [\"r\", \"p\"],\n",
        "            \"p\" : [\"o\", \"n\"],\n",
        "            \"n\" : [\"m\", \"p\"]\n",
        "        }\n",
        "\n",
        "# Create an instance of the graph class and pass the graph_elements\n",
        "g2 = Graph(graph_elements2)\n",
        "\n",
        "# Print the vertices by calling the getVertices method in parentheses\n",
        "print(g2.getVertices())"
      ],
      "metadata": {
        "colab": {
          "base_uri": "https://localhost:8080/"
        },
        "id": "02dycEOEa6pG",
        "outputId": "041596e2-a6bb-421c-f2eb-9ac9a4496daa"
      },
      "execution_count": null,
      "outputs": [
        {
          "output_type": "stream",
          "name": "stdout",
          "text": [
            "['r', 'o', 'm', 'l', 'p', 'n']\n"
          ]
        }
      ]
    },
    {
      "cell_type": "code",
      "source": [
        "# Latihan sudut graph TUV\n",
        "# Create dictionary with graph elements\n",
        "graph_elements1 = {\n",
        "            \"T\" : [\"U\", \"W\"],\n",
        "            \"U\" : [\"V\"],\n",
        "            \"V\" : [\"U\", \"X\"],\n",
        "            \"W\" : [\"X\", \"Z\"],\n",
        "            \"X\" : [\"S\", \"W\"],\n",
        "            \"Z\" : [\"W\"],\n",
        "            \"S\" : [\"X\"]\n",
        "        }\n",
        "\n",
        "# Create an instance of the graph class and pass the graph_elements\n",
        "g1 = Graph(graph_elements1)\n",
        "\n",
        "# Print the vertices by calling the getVertices method in parentheses\n",
        "print(g1.edges())"
      ],
      "metadata": {
        "colab": {
          "base_uri": "https://localhost:8080/"
        },
        "id": "wYXlGP_BbvMV",
        "outputId": "8cd36ac9-76c9-460c-fe1d-ecb2e8fa168b"
      },
      "execution_count": null,
      "outputs": [
        {
          "output_type": "stream",
          "name": "stdout",
          "text": [
            "[{'U', 'T'}, {'T', 'W'}, {'V', 'U'}, {'V', 'X'}, {'X', 'W'}, {'Z', 'W'}, {'S', 'X'}]\n"
          ]
        }
      ]
    },
    {
      "cell_type": "code",
      "source": [],
      "metadata": {
        "id": "fZhBT6IhdLc0"
      },
      "execution_count": null,
      "outputs": []
    },
    {
      "cell_type": "code",
      "source": [
        "# Latihan sudut graph r o m\n",
        "# Create dictionary with graph elements\n",
        "graph_elements2 = {\n",
        "            \"r\" : [\"o\", \"l\"],\n",
        "            \"o\" : [\"m\", \"p\"],\n",
        "            \"m\" : [\"o\", \"n\"],\n",
        "            \"l\" : [\"r\", \"p\"],\n",
        "            \"p\" : [\"o\", \"n\"],\n",
        "            \"n\" : [\"m\", \"p\"]\n",
        "        }\n",
        "\n",
        "# Create an instance of the graph class and pass the graph_elements\n",
        "g2 = Graph(graph_elements2)\n",
        "\n",
        "# Print the vertices by calling the getVertices method in parentheses\n",
        "print(g2.edges())"
      ],
      "metadata": {
        "colab": {
          "base_uri": "https://localhost:8080/"
        },
        "id": "CF_iG2-CciCG",
        "outputId": "02f1c5ff-0cb3-4716-c569-657b7cbc9223"
      },
      "execution_count": null,
      "outputs": [
        {
          "output_type": "stream",
          "name": "stdout",
          "text": [
            "[{'r', 'o'}, {'r', 'l'}, {'m', 'o'}, {'p', 'o'}, {'m', 'n'}, {'p', 'l'}, {'n', 'p'}]\n"
          ]
        }
      ]
    },
    {
      "cell_type": "code",
      "source": [
        "# Latihan tambah simpul pada graph TUV\n",
        "graph_elements1 = {\n",
        "            \"T\" : [\"U\", \"W\"],\n",
        "            \"U\" : [\"V\"],\n",
        "            \"V\" : [\"U\", \"X\"],\n",
        "            \"W\" : [\"X\", \"Z\"],\n",
        "            \"X\" : [\"S\", \"W\"],\n",
        "            \"Z\" : [\"W\"],\n",
        "            \"S\" : [\"X\"]\n",
        "        }\n",
        "\n",
        "# Create an instance of the graph class and pass the graph_elements\n",
        "g1 = Graph(graph_elements1)\n",
        "\n",
        "g1.addVertex(\"f\")\n",
        "print(g1.getVertices())"
      ],
      "metadata": {
        "colab": {
          "base_uri": "https://localhost:8080/"
        },
        "id": "HnvnASDJeNlu",
        "outputId": "f938a208-8fb9-4706-e584-1a14c3f53e29"
      },
      "execution_count": null,
      "outputs": [
        {
          "output_type": "stream",
          "name": "stdout",
          "text": [
            "['T', 'U', 'V', 'W', 'X', 'Z', 'S', 'f']\n"
          ]
        }
      ]
    },
    {
      "cell_type": "code",
      "source": [
        "# Latihan tambah simpul pada graph r o m\n",
        "# Create dictionary with graph elements\n",
        "graph_elements2 = {\n",
        "            \"r\" : [\"o\", \"l\"],\n",
        "            \"o\" : [\"m\", \"p\"],\n",
        "            \"m\" : [\"o\", \"n\"],\n",
        "            \"l\" : [\"r\", \"p\"],\n",
        "            \"p\" : [\"o\", \"n\"],\n",
        "            \"n\" : [\"m\", \"p\"]\n",
        "        }\n",
        "\n",
        "# Create an instance of the graph class and pass the graph_elements\n",
        "g2 = Graph(graph_elements2)\n",
        "\n",
        "g2.addVertex(\"f\")\n",
        "print(g2.getVertices())"
      ],
      "metadata": {
        "colab": {
          "base_uri": "https://localhost:8080/"
        },
        "id": "cNMJSshOewEm",
        "outputId": "f1938995-d213-4f3d-c007-37a3b74e47d7"
      },
      "execution_count": null,
      "outputs": [
        {
          "output_type": "stream",
          "name": "stdout",
          "text": [
            "['r', 'o', 'm', 'l', 'p', 'n', 'f']\n"
          ]
        }
      ]
    },
    {
      "cell_type": "code",
      "source": [
        "# Latihan tambah simpul pada edge TUV\n",
        "# Create dictionary with graph elements\n",
        "graph_elements1 = {\n",
        "            \"T\" : [\"U\", \"W\"],\n",
        "            \"U\" : [\"V\"],\n",
        "            \"V\" : [\"U\", \"X\"],\n",
        "            \"W\" : [\"X\", \"Z\"],\n",
        "            \"X\" : [\"S\", \"W\"],\n",
        "            \"Z\" : [\"W\"],\n",
        "            \"S\" : [\"X\"]\n",
        "        }\n",
        "\n",
        "# Create an instance of the graph class and pass the graph_elements\n",
        "g1 = Graph(graph_elements1)\n",
        "\n",
        "g1.addEdge({'a', 'e'})\n",
        "g1.addEdge({'a', 'c'})\n",
        "print(g1.edges())"
      ],
      "metadata": {
        "colab": {
          "base_uri": "https://localhost:8080/"
        },
        "id": "hk-O9U57f5FF",
        "outputId": "b0cf22e8-3ce7-4210-d504-e6482f846921"
      },
      "execution_count": null,
      "outputs": [
        {
          "output_type": "stream",
          "name": "stdout",
          "text": [
            "[{'U', 'T'}, {'T', 'W'}, {'V', 'U'}, {'V', 'X'}, {'X', 'W'}, {'Z', 'W'}, {'S', 'X'}, {'a', 'e'}, {'a', 'c'}]\n"
          ]
        }
      ]
    },
    {
      "cell_type": "code",
      "source": [
        "# Latihan tambah simpul pada edge r o m\n",
        "# Create dictionary with graph elements\n",
        "graph_elements2 = {\n",
        "            \"r\" : [\"o\", \"l\"],\n",
        "            \"o\" : [\"m\", \"p\"],\n",
        "            \"m\" : [\"o\", \"n\"],\n",
        "            \"l\" : [\"r\", \"p\"],\n",
        "            \"p\" : [\"o\", \"n\"],\n",
        "            \"n\" : [\"m\", \"p\"]\n",
        "        }\n",
        "\n",
        "# Create an instance of the graph class and pass the graph_elements\n",
        "g2 = Graph(graph_elements2)\n",
        "\n",
        "g2.addEdge({'a', 'e'})\n",
        "g2.addEdge({'a', 'c'})\n",
        "print(g2.edges())"
      ],
      "metadata": {
        "colab": {
          "base_uri": "https://localhost:8080/"
        },
        "id": "roiPqKX-gJx-",
        "outputId": "a92ecbfe-366a-4653-a980-35ec6577e8c0"
      },
      "execution_count": null,
      "outputs": [
        {
          "output_type": "stream",
          "name": "stdout",
          "text": [
            "[{'r', 'o'}, {'r', 'l'}, {'m', 'o'}, {'p', 'o'}, {'m', 'n'}, {'p', 'l'}, {'n', 'p'}, {'a', 'e'}, {'a', 'c'}]\n"
          ]
        }
      ]
    },
    {
      "cell_type": "code",
      "source": [
        "# Graph LINKED_LIST"
      ],
      "metadata": {
        "id": "so1eJAusyjlJ"
      },
      "execution_count": null,
      "outputs": []
    }
  ]
}